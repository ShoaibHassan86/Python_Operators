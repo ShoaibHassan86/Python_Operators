{
 "cells": [
  {
   "cell_type": "markdown",
   "id": "a74e0968",
   "metadata": {},
   "source": [
    "# Python Operators\n",
    "This notebook demonstrates examples of different operator categories in Python."
   ]
  },
  {
   "cell_type": "markdown",
   "id": "b232a6a6",
   "metadata": {},
   "source": [
    "## 1. Arithmetic Operators"
   ]
  },
  {
   "cell_type": "code",
   "execution_count": null,
   "id": "8c18f44e",
   "metadata": {},
   "outputs": [],
   "source": [
    "x = 10\n",
    "y = 3\n",
    "\n",
    "print(\"Addition:\", x + y)  # 13\n",
    "print(\"Subtraction:\", x - y)  # 7\n",
    "print(\"Multiplication:\", x * y)  # 30\n",
    "print(\"Division:\", x / y)  # 3.33\n",
    "print(\"Modulus:\", x % y)  # 1\n",
    "print(\"Exponentiation:\", x ** y)  # 1000\n",
    "print(\"Floor Division:\", x // y)  # 3"
   ]
  },
  {
   "cell_type": "markdown",
   "id": "df11a718",
   "metadata": {},
   "source": [
    "## 2. Comparison Operators"
   ]
  },
  {
   "cell_type": "code",
   "execution_count": null,
   "id": "cf3c55ae",
   "metadata": {},
   "outputs": [],
   "source": [
    "x = 10\n",
    "y = 3\n",
    "\n",
    "print(\"Equal to:\", x == y)  # False\n",
    "print(\"Not equal to:\", x != y)  # True\n",
    "print(\"Greater than:\", x > y)  # True\n",
    "print(\"Less than:\", x < y)  # False\n",
    "print(\"Greater than or equal to:\", x >= y)  # True\n",
    "print(\"Less than or equal to:\", x <= y)  # False"
   ]
  },
  {
   "cell_type": "markdown",
   "id": "3d13d9be",
   "metadata": {},
   "source": [
    "## 3. Logical Operators"
   ]
  },
  {
   "cell_type": "code",
   "execution_count": null,
   "id": "e2990471",
   "metadata": {},
   "outputs": [],
   "source": [
    "a = True\n",
    "b = False\n",
    "\n",
    "print(\"Logical AND:\", a and b)  # False\n",
    "print(\"Logical OR:\", a or b)  # True\n",
    "print(\"Logical NOT:\", not a)  # False"
   ]
  },
  {
   "cell_type": "markdown",
   "id": "ac0f509f",
   "metadata": {},
   "source": [
    "## 4. Assignment Operators"
   ]
  },
  {
   "cell_type": "code",
   "execution_count": null,
   "id": "1d8c71c7",
   "metadata": {},
   "outputs": [],
   "source": [
    "x = 5\n",
    "\n",
    "x += 3\n",
    "print(\"x += 3:\", x)  # 8\n",
    "\n",
    "x -= 2\n",
    "print(\"x -= 2:\", x)  # 6\n",
    "\n",
    "x *= 4\n",
    "print(\"x *= 4:\", x)  # 24\n",
    "\n",
    "x /= 6\n",
    "print(\"x /= 6:\", x)  # 4.0\n",
    "\n",
    "x **= 2\n",
    "print(\"x **= 2:\", x)  # 16.0"
   ]
  },
  {
   "cell_type": "markdown",
   "id": "f8a01d9b",
   "metadata": {},
   "source": [
    "## 5. Bitwise Operators"
   ]
  },
  {
   "cell_type": "code",
   "execution_count": null,
   "id": "f1e19f84",
   "metadata": {},
   "outputs": [],
   "source": [
    "x = 5  # 101 in binary\n",
    "y = 3  # 011 in binary\n",
    "\n",
    "print(\"Bitwise AND:\", x & y)  # 1 (001)\n",
    "print(\"Bitwise OR:\", x | y)  # 7 (111)\n",
    "print(\"Bitwise XOR:\", x ^ y)  # 6 (110)\n",
    "print(\"Bitwise NOT (~x):\", ~x)  # -6 (two's complement of 5)\n",
    "print(\"Bitwise Left Shift (x << 2):\", x << 2)  # 20 (10100)\n",
    "print(\"Bitwise Right Shift (x >> 2):\", x >> 2)  # 1 (001)"
   ]
  },
  {
   "cell_type": "markdown",
   "id": "fe7cfb39",
   "metadata": {},
   "source": [
    "## 6. Identity Operators"
   ]
  },
  {
   "cell_type": "code",
   "execution_count": null,
   "id": "e9478da0",
   "metadata": {},
   "outputs": [],
   "source": [
    "x = [1, 2, 3]\n",
    "y = [1, 2, 3]\n",
    "z = x\n",
    "\n",
    "print(\"x is y:\", x is y)  # False, different objects\n",
    "print(\"x is z:\", x is z)  # True, same object\n",
    "print(\"x is not y:\", x is not y)  # True"
   ]
  },
  {
   "cell_type": "markdown",
   "id": "53ac5440",
   "metadata": {},
   "source": [
    "## 7. Membership Operators"
   ]
  },
  {
   "cell_type": "code",
   "execution_count": null,
   "id": "5d1b5179",
   "metadata": {},
   "outputs": [],
   "source": [
    "x = [1, 2, 3, 4]\n",
    "print(\"3 in x:\", 3 in x)  # True\n",
    "print(\"5 not in x:\", 5 not in x)  # True"
   ]
  },
  {
   "cell_type": "markdown",
   "id": "08628e47",
   "metadata": {},
   "source": [
    "## 8. Ternary (Conditional) Operator"
   ]
  },
  {
   "cell_type": "code",
   "execution_count": null,
   "id": "c930a186",
   "metadata": {},
   "outputs": [],
   "source": [
    "x, y = 10, 20\n",
    "result = \"x is greater\" if x > y else \"y is greater\"\n",
    "print(result)  # Output: \"y is greater\" "
   ]
  }
 ],
 "metadata": {},
 "nbformat": 4,
 "nbformat_minor": 5
}